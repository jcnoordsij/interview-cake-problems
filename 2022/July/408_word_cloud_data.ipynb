{
 "cells": [
  {
   "cell_type": "markdown",
   "metadata": {},
   "source": [
    "# [#408: Word Cloud Data](https://www.interviewcake.com/question/python3/word-cloud?)\n",
    "\n",
    "You want to build a word cloud, an infographic where the size of a word corresponds to how often it appears in the body of text.\n",
    "To do this, you'll need data. Write code that takes a long string and builds its word cloud data in a dictionary, where the keys are words and the values are the number of times the words occurred.\n",
    "\n",
    "Think about capitalized words. For example, look at these sentences:\n",
    "\n",
    "```\n",
    "'After beating the eggs, Dana read the next step:'\n",
    "'Add milk and eggs, then add flour and sugar.'\n",
    "```\n",
    "\n",
    "What do we want to do with \"After\", \"Dana\", and \"add\"? In this example, your final dictionary should include one \"Add\" or \"add\" with a value of 2. Make reasonable (not necessarily perfect) decisions about cases like \"After\" and \"Dana\".\n",
    "\n",
    "Assume the input will only contain words and standard punctuation.\n",
    "\n",
    "You could make a reasonable argument to use regex in your solution. We won't, mainly because performance is difficult to measure and can get pretty bad."
   ]
  },
  {
   "cell_type": "code",
   "execution_count": 29,
   "metadata": {},
   "outputs": [],
   "source": [
    "def count_words_naive(string: str) -> dict:\n",
    "    word = []\n",
    "    words_dict = {}\n",
    "    sentence_terminators = set(('.','?','!'))\n",
    "    non_word_chars = sentence_terminators.union(set((' ','-', '\\n', ',', ':', ';', '\\\"', '\\'','(', ')')))\n",
    "    new_sentence = True\n",
    "    \n",
    "    for idx, char in enumerate(string):\n",
    "        if char not in non_word_chars:\n",
    "            if new_sentence:\n",
    "                new_sentence = False\n",
    "                char = char.lower()\n",
    "            if char == 's' and last_char == \"\\'\":\n",
    "                continue\n",
    "            word.append(char)\n",
    "            last_char = char\n",
    "        else:\n",
    "            if char in sentence_terminators:\n",
    "                new_sentence = True\n",
    "            if last_char not in non_word_chars:\n",
    "                new_word = ''.join(word)\n",
    "                if new_word[0].isupper() and new_word.lower() in words_dict:\n",
    "                    words_dict[new_word] = words_dict[new_word.lower()] \n",
    "                    words_dict.pop(new_word.lower())\n",
    "                if new_word in words_dict:\n",
    "                    words_dict[new_word] += 1\n",
    "                else:\n",
    "                    words_dict[new_word] = 1\n",
    "            word = []\n",
    "            last_char = char\n",
    "       \n",
    "    if char in sentence_terminators:\n",
    "        new_sentence = True\n",
    "    if last_char not in non_word_chars:\n",
    "        new_word = ''.join(word)\n",
    "        if new_word[0].isupper() and new_word.lower() in words_dict:\n",
    "            words_dict[new_word] = words_dict[new_word.lower()] \n",
    "            words_dict.pop(new_word.lower())\n",
    "        if new_word in words_dict:\n",
    "            words_dict[new_word] += 1\n",
    "        else:\n",
    "            words_dict[new_word] = 1\n",
    "    return words_dict\n"
   ]
  },
  {
   "cell_type": "code",
   "execution_count": 30,
   "metadata": {},
   "outputs": [
    {
     "name": "stderr",
     "output_type": "stream",
     "text": [
      "test_count_words_naive (__main__.TestWordCloudData) ... ok\n",
      "\n",
      "----------------------------------------------------------------------\n",
      "Ran 1 test in 0.004s\n",
      "\n",
      "OK\n"
     ]
    },
    {
     "data": {
      "text/plain": [
       "<unittest.main.TestProgram at 0x1035387f0>"
      ]
     },
     "execution_count": 30,
     "metadata": {},
     "output_type": "execute_result"
    }
   ],
   "source": [
    "import unittest\n",
    "\n",
    "unittest.util._MAX_LENGTH=2000\n",
    "\n",
    "strings_counts_dict = {\n",
    "    'After beating the eggs, Dana read the next step:': {\n",
    "        'after': 1,\n",
    "        'beating': 1,\n",
    "        'the': 2,\n",
    "        'eggs': 1,\n",
    "        'Dana': 1,\n",
    "        'read': 1,\n",
    "        'next': 1,\n",
    "        'step': 1\n",
    "    },\n",
    "    'Add milk and eggs, then add flour and sugar.': {\n",
    "        'add': 2,\n",
    "        'milk': 1,\n",
    "        'and': 2,\n",
    "        'eggs': 1,\n",
    "        'then': 1,\n",
    "        'flour': 1,\n",
    "        'sugar': 1\n",
    "    },\n",
    "    'Pseudo-sentence with a hyphenated word': {\n",
    "        'pseudo': 1,\n",
    "        'sentence': 1,\n",
    "        'with': 1,\n",
    "        'a': 1,\n",
    "        'hyphenated': 1,\n",
    "        'word': 1\n",
    "    },\n",
    "    \"We came, we saw, we conquered...then we ate Bill's (Mille-Feuille) cake.\": {\n",
    "        'we': 4,\n",
    "        'came': 1,\n",
    "        'saw': 1,\n",
    "        'conquered': 1,\n",
    "        'then': 1,\n",
    "        'ate': 1,\n",
    "        'Bill': 1,\n",
    "        'Mille':1,\n",
    "        'Feuille': 1,\n",
    "        'cake': 1\n",
    "        \n",
    "    },\n",
    "    'The bill came to five dollars.': {\n",
    "        'the': 1,\n",
    "        'bill': 1,\n",
    "        'came': 1,\n",
    "        'to': 1,\n",
    "        'five': 1,\n",
    "        'dollars': 1\n",
    "    }\n",
    "\n",
    "}\n",
    "\n",
    "class TestWordCloudData(unittest.TestCase):\n",
    "\n",
    "    def test_count_words_naive(self):\n",
    "        for string, answer in strings_counts_dict.items():\n",
    "            self.assertEqual(\n",
    "                count_words_naive(string),\n",
    "                answer\n",
    "            )\n",
    "        \n",
    "\n",
    "unittest.main(argv=[''], verbosity=2, exit=False)\n"
   ]
  },
  {
   "cell_type": "code",
   "execution_count": null,
   "metadata": {},
   "outputs": [],
   "source": []
  }
 ],
 "metadata": {
  "kernelspec": {
   "display_name": "Python 3.10.4 64-bit ('mit_ocw_algo_ds')",
   "language": "python",
   "name": "python3"
  },
  "language_info": {
   "codemirror_mode": {
    "name": "ipython",
    "version": 3
   },
   "file_extension": ".py",
   "mimetype": "text/x-python",
   "name": "python",
   "nbconvert_exporter": "python",
   "pygments_lexer": "ipython3",
   "version": "3.10.4"
  },
  "orig_nbformat": 4,
  "vscode": {
   "interpreter": {
    "hash": "c1bd68353ac7f8f54ff1792ed5cb250d65a43f9b02a4052440b267b5fcc03ff6"
   }
  }
 },
 "nbformat": 4,
 "nbformat_minor": 2
}
